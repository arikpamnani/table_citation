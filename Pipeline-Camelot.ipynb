{
 "cells": [
  {
   "cell_type": "code",
   "execution_count": 1,
   "metadata": {},
   "outputs": [],
   "source": [
    "import camelot\n",
    "from PyPDF2 import PdfFileWriter, PdfFileReader\n",
    "import os\n",
    "import shutil\n",
    "import pickle\n",
    "import pandas as pd\n",
    "import xml.etree.ElementTree as ET"
   ]
  },
  {
   "cell_type": "markdown",
   "metadata": {},
   "source": [
    "## input PDF Files in the folder"
   ]
  },
  {
   "cell_type": "markdown",
   "metadata": {},
   "source": [
    "## splitting the pdf files for camelot"
   ]
  },
  {
   "cell_type": "code",
   "execution_count": 32,
   "metadata": {},
   "outputs": [],
   "source": [
    "files = [f for f in os.listdir('.') if os.path.isfile(f)]\n",
    "files = filter(lambda f: f.endswith(('.pdf','.PDF')), files)\n",
    "for file in files:\n",
    "    inputpdf = PdfFileReader(open(file, \"rb\"))\n",
    "\n",
    "    for i in range(inputpdf.numPages):\n",
    "        output = PdfFileWriter()\n",
    "        output.addPage(inputpdf.getPage(i))\n",
    "        with open(\"%s#%s.pdf\" % (file,i), \"wb\") as outputStream:\n",
    "            output.write(outputStream)\n",
    "            "
   ]
  },
  {
   "cell_type": "code",
   "execution_count": 10,
   "metadata": {},
   "outputs": [],
   "source": [
    "for file in files:\n",
    "    try:\n",
    "        os.remove(file)\n",
    "    except:\n",
    "        continue"
   ]
  },
  {
   "cell_type": "markdown",
   "metadata": {},
   "source": [
    "## Collecting table data from files"
   ]
  },
  {
   "cell_type": "markdown",
   "metadata": {},
   "source": [
    "## Storing table data in form of Pickle Objects"
   ]
  },
  {
   "cell_type": "code",
   "execution_count": 33,
   "metadata": {},
   "outputs": [
    {
     "name": "stdout",
     "output_type": "stream",
     "text": [
      "p n of  11 1708.04138.pdf\n",
      "Directory  1708.04138_df  Created \n",
      "p n of  31 1708.04138.pdf\n",
      "p n of  30 1708.04138.pdf\n",
      "p n of  19 1708.04138.pdf\n",
      "p n of  21 1708.04138.pdf\n",
      "p n of  32 1708.04138.pdf\n",
      "p n of  28 1708.04138.pdf\n",
      "p n of  26 1708.04138.pdf\n",
      "p n of  22 1708.04138.pdf\n",
      "p n of  20 1708.04138.pdf\n",
      "p n of  18 1708.04138.pdf\n",
      "p n of  4 1708.04138.pdf\n",
      "p n of  24 1708.04138.pdf\n",
      "p n of  27 1708.04138.pdf\n",
      "p n of  8 1708.04138.pdf\n",
      "p n of  2 1708.04138.pdf\n",
      "p n of  13 1708.04138.pdf\n",
      "p n of  7 1708.04138.pdf\n",
      "p n of  1 1708.04138.pdf\n",
      "p n of  17 1708.04138.pdf\n",
      "p n of  16 1708.04138.pdf\n",
      "p n of  5 1708.04138.pdf\n",
      "p n of  15 1708.04138.pdf\n",
      "p n of  10 1708.04138.pdf\n",
      "p n of  29 1708.04138.pdf\n",
      "p n of  12 1708.04138.pdf\n",
      "p n of  0 1708.04138.pdf\n",
      "p n of  3 1708.04138.pdf\n",
      "p n of  6 1708.04138.pdf\n",
      "p n of  9 1708.04138.pdf\n",
      "p n of  23 1708.04138.pdf\n",
      "p n of  25 1708.04138.pdf\n",
      "p n of  14 1708.04138.pdf\n"
     ]
    }
   ],
   "source": [
    "Counter = 1\n",
    "files = [f for f in os.listdir('.') if os.path.isfile(f)]\n",
    "files = filter(lambda f: f.endswith(('.pdf','.PDF')), files)\n",
    "TablesCount = {}\n",
    "for file in files:\n",
    "    #origName=file[:9]\n",
    "    #print(file)\n",
    "    origName=file.split(\"#\")[0]\n",
    "    page_no = int(file.split(\"#\")[1].split(\".pdf\")[0])\n",
    "    print(\"p n of \",page_no,origName)\n",
    "    dirName = origName.split(\".pdf\")[0] +\"_df\"\n",
    "    \n",
    "    try:\n",
    "        # Create target Directory\n",
    "        os.mkdir(dirName)\n",
    "        print(\"Directory \" , dirName ,  \" Created \") \n",
    "        TablesCount[dirName]=0\n",
    "    except FileExistsError:\n",
    "        #print(\"Directory \" , dirName ,  \" already exists\")\n",
    "        #if(dirName not in TablesCount.keys()):\n",
    "            #TablesCount[dirName]=0\n",
    "        pass\n",
    "            \n",
    "    \n",
    "    tables = camelot.read_pdf(file)\n",
    "    #print(Counter)\n",
    "    #Counter+=1\n",
    "    for i in range(tables.n):\n",
    "        num = TablesCount[dirName]\n",
    "        tables[i].df.to_pickle('Table_%d.pkl'%num)\n",
    "        \n",
    "        shutil.move(os.getcwd()+\"/Table_%d.pkl\"%num, os.getcwd()+\"/%s\"%dirName+\"/Table_%d.pkl\"%num)\n",
    "        TablesCount[dirName]+=1"
   ]
  },
  {
   "cell_type": "markdown",
   "metadata": {},
   "source": [
    "## Testing for Pickle files"
   ]
  },
  {
   "cell_type": "code",
   "execution_count": 35,
   "metadata": {},
   "outputs": [],
   "source": [
    "a = pd.read_pickle(\"/home/kunal/Desktop/pipeline/1708.04138_df/Table_0.pkl\")\n",
    "#a = pickle.load(fileObject)"
   ]
  },
  {
   "cell_type": "code",
   "execution_count": 36,
   "metadata": {},
   "outputs": [
    {
     "data": {
      "text/html": [
       "<div>\n",
       "<style scoped>\n",
       "    .dataframe tbody tr th:only-of-type {\n",
       "        vertical-align: middle;\n",
       "    }\n",
       "\n",
       "    .dataframe tbody tr th {\n",
       "        vertical-align: top;\n",
       "    }\n",
       "\n",
       "    .dataframe thead th {\n",
       "        text-align: right;\n",
       "    }\n",
       "</style>\n",
       "<table border=\"1\" class=\"dataframe\">\n",
       "  <thead>\n",
       "    <tr style=\"text-align: right;\">\n",
       "      <th></th>\n",
       "      <th>0</th>\n",
       "      <th>1</th>\n",
       "      <th>2</th>\n",
       "      <th>3</th>\n",
       "    </tr>\n",
       "  </thead>\n",
       "  <tbody>\n",
       "    <tr>\n",
       "      <th>0</th>\n",
       "      <td>Re</td>\n",
       "      <td>Iteration</td>\n",
       "      <td>Absolute residual\\nin–line/staggered</td>\n",
       "      <td>Relative residual\\nin–line/staggered</td>\n",
       "    </tr>\n",
       "    <tr>\n",
       "      <th>1</th>\n",
       "      <td>10</td>\n",
       "      <td>1\\n2\\n3\\n4</td>\n",
       "      <td>1.427e-01/1.874e-01\\n9.574e-03/3.373e-02\\n6.44...</td>\n",
       "      <td>1.858e-02/2.439e-02\\n1.246e-03/4.392e-03\\n8.39...</td>\n",
       "    </tr>\n",
       "    <tr>\n",
       "      <th>2</th>\n",
       "      <td>50</td>\n",
       "      <td>1\\n2\\n3\\n4</td>\n",
       "      <td>1.427e-01/1.874e-01\\n3.531e-02/8.926e-02\\n7.39...</td>\n",
       "      <td>1.858e-02/2.439e-02\\n4.597e-03/1.162e-02\\n9.62...</td>\n",
       "    </tr>\n",
       "    <tr>\n",
       "      <th>3</th>\n",
       "      <td>150</td>\n",
       "      <td>1\\n2\\n3\\n4</td>\n",
       "      <td>1.427e-01/1.874e-01\\n4.975e-02/9.916e-02\\n3.88...</td>\n",
       "      <td>1.858e-02/2.439e-02\\n6.477e-03/1.291e-02\\n5.05...</td>\n",
       "    </tr>\n",
       "    <tr>\n",
       "      <th>4</th>\n",
       "      <td></td>\n",
       "      <td></td>\n",
       "      <td></td>\n",
       "      <td></td>\n",
       "    </tr>\n",
       "  </tbody>\n",
       "</table>\n",
       "</div>"
      ],
      "text/plain": [
       "     0           1                                                  2  \\\n",
       "0   Re   Iteration               Absolute residual\\nin–line/staggered   \n",
       "1   10  1\\n2\\n3\\n4  1.427e-01/1.874e-01\\n9.574e-03/3.373e-02\\n6.44...   \n",
       "2   50  1\\n2\\n3\\n4  1.427e-01/1.874e-01\\n3.531e-02/8.926e-02\\n7.39...   \n",
       "3  150  1\\n2\\n3\\n4  1.427e-01/1.874e-01\\n4.975e-02/9.916e-02\\n3.88...   \n",
       "4                                                                       \n",
       "\n",
       "                                                   3  \n",
       "0               Relative residual\\nin–line/staggered  \n",
       "1  1.858e-02/2.439e-02\\n1.246e-03/4.392e-03\\n8.39...  \n",
       "2  1.858e-02/2.439e-02\\n4.597e-03/1.162e-02\\n9.62...  \n",
       "3  1.858e-02/2.439e-02\\n6.477e-03/1.291e-02\\n5.05...  \n",
       "4                                                     "
      ]
     },
     "execution_count": 36,
     "metadata": {},
     "output_type": "execute_result"
    }
   ],
   "source": [
    "a"
   ]
  },
  {
   "cell_type": "code",
   "execution_count": 38,
   "metadata": {},
   "outputs": [],
   "source": [
    "tables = camelot.read_pdf('/home/kunal/Desktop/pipeline/1708.04138.pdf#10.pdf')"
   ]
  },
  {
   "cell_type": "code",
   "execution_count": 39,
   "metadata": {},
   "outputs": [
    {
     "data": {
      "text/plain": [
       "['0',\n",
       " '1',\n",
       " '2',\n",
       " '3',\n",
       " '0',\n",
       " 'Re',\n",
       " 'Iteration',\n",
       " 'Absolute',\n",
       " 'residual\\\\nin–line/staggered',\n",
       " 'Relative',\n",
       " 'residual\\\\nin–line/staggered',\n",
       " '1',\n",
       " '10',\n",
       " '1\\\\n2\\\\n3\\\\n4',\n",
       " '1.427e-01/1.874e-01\\\\n9.574e-03/3.373e-02\\\\n6.44...',\n",
       " '1.858e-02/2.439e-02\\\\n1.246e-03/4.392e-03\\\\n8.39...',\n",
       " '2',\n",
       " '50',\n",
       " '1\\\\n2\\\\n3\\\\n4',\n",
       " '1.427e-01/1.874e-01\\\\n3.531e-02/8.926e-02\\\\n7.39...',\n",
       " '1.858e-02/2.439e-02\\\\n4.597e-03/1.162e-02\\\\n9.62...',\n",
       " '3',\n",
       " '150',\n",
       " '1\\\\n2\\\\n3\\\\n4',\n",
       " '1.427e-01/1.874e-01\\\\n4.975e-02/9.916e-02\\\\n3.88...',\n",
       " '1.858e-02/2.439e-02\\\\n6.477e-03/1.291e-02\\\\n5.05...',\n",
       " '4']"
      ]
     },
     "execution_count": 39,
     "metadata": {},
     "output_type": "execute_result"
    }
   ],
   "source": [
    "l1=tables[0].df.to_string().split()\n",
    "l1"
   ]
  },
  {
   "cell_type": "code",
   "execution_count": 44,
   "metadata": {},
   "outputs": [
    {
     "data": {
      "text/plain": [
       "['0',\n",
       " '1',\n",
       " '2',\n",
       " '3',\n",
       " '0',\n",
       " 'Re',\n",
       " 'Iteration',\n",
       " 'Absolute',\n",
       " 'residual',\n",
       " 'in–line/staggered',\n",
       " 'Relative',\n",
       " 'residual',\n",
       " 'in–line/staggered',\n",
       " '1',\n",
       " '10',\n",
       " '1',\n",
       " '2',\n",
       " '3',\n",
       " '4',\n",
       " '1.427e-01/1.874e-01',\n",
       " '9.574e-03/3.373e-02',\n",
       " '6.44...',\n",
       " '1.858e-02/2.439e-02',\n",
       " '1.246e-03/4.392e-03',\n",
       " '8.39...',\n",
       " '2',\n",
       " '50',\n",
       " '1',\n",
       " '2',\n",
       " '3',\n",
       " '4',\n",
       " '1.427e-01/1.874e-01',\n",
       " '3.531e-02/8.926e-02',\n",
       " '7.39...',\n",
       " '1.858e-02/2.439e-02',\n",
       " '4.597e-03/1.162e-02',\n",
       " '9.62...',\n",
       " '3',\n",
       " '150',\n",
       " '1',\n",
       " '2',\n",
       " '3',\n",
       " '4',\n",
       " '1.427e-01/1.874e-01',\n",
       " '4.975e-02/9.916e-02',\n",
       " '3.88...',\n",
       " '1.858e-02/2.439e-02',\n",
       " '6.477e-03/1.291e-02',\n",
       " '5.05...',\n",
       " '4']"
      ]
     },
     "execution_count": 44,
     "metadata": {},
     "output_type": "execute_result"
    }
   ],
   "source": [
    "l2=[]\n",
    "for i in range(len(l1)):\n",
    "    temp=l1[i].split(\"\\\\n\")\n",
    "    #l1.pop(i)\n",
    "    for j in temp:\n",
    "        l2.append(j)\n",
    "l2        "
   ]
  },
  {
   "cell_type": "code",
   "execution_count": 42,
   "metadata": {},
   "outputs": [],
   "source": [
    "def get_labels(xml_path):\n",
    "\n",
    "    tree = ET.parse(xml_path)\n",
    "    document = tree.getroot()\n",
    "    flag = 0\n",
    "    Table_Num = 0\n",
    "    content = {} ## content[table_number] = list of tokens in that table\n",
    "    for page in document:\n",
    "        for text in page:\n",
    "            for token in text:\n",
    "                if token.text == \"#THIS#IS#START#OF#TABLE#\":\n",
    "                    flag = 1\n",
    "                elif token.text == \"#THIS#IS#END#OF#TABLE#\":\n",
    "                    flag = 0\n",
    "                    Table_Num+=1\n",
    "                if flag:\n",
    "                    if Table_Num not in content:\n",
    "                        content[Table_Num] = [token.text]\n",
    "                    else:\n",
    "                        content[Table_Num].append(token.text)\n",
    "                    \n",
    "                \n",
    "    return content"
   ]
  },
  {
   "cell_type": "code",
   "execution_count": 43,
   "metadata": {},
   "outputs": [
    {
     "data": {
      "text/plain": [
       "{0: ['#THIS#IS#START#OF#TABLE#',\n",
       "  'Re',\n",
       "  'Iteration',\n",
       "  'Absolute',\n",
       "  'residual',\n",
       "  'Relative',\n",
       "  'residual',\n",
       "  'in–line/staggered',\n",
       "  'in–line/staggered',\n",
       "  '1',\n",
       "  '1.427e-01/1.874e-01',\n",
       "  '1.858e-02/2.439e-02',\n",
       "  '10',\n",
       "  '2',\n",
       "  '9.574e-03/3.373e-02',\n",
       "  '1.246e-03/4.392e-03',\n",
       "  '3',\n",
       "  '6.448e-06/4.395e-05',\n",
       "  '8.395e-07/5.722e-06',\n",
       "  '4',\n",
       "  '1.885e-11/2.581e-10',\n",
       "  '2.454e-12/3.360e-11',\n",
       "  '1',\n",
       "  '1.427e-01/1.874e-01',\n",
       "  '1.858e-02/2.439e-02',\n",
       "  '50',\n",
       "  '2',\n",
       "  '3.531e-02/8.926e-02',\n",
       "  '4.597e-03/1.162e-02',\n",
       "  '3',\n",
       "  '7.390e-04/8.966e-03',\n",
       "  '9.621e-05/1.167e-03',\n",
       "  '4',\n",
       "  '4.896e-06/2.646e-04',\n",
       "  '6.374e-07/3.445e-05',\n",
       "  '1',\n",
       "  '1.427e-01/1.874e-01',\n",
       "  '1.858e-02/2.439e-02',\n",
       "  '150',\n",
       "  '2',\n",
       "  '4.975e-02/9.916e-02',\n",
       "  '6.477e-03/1.291e-02',\n",
       "  '3',\n",
       "  '3.886e-03/9.707e-02',\n",
       "  '5.059e-04/1.264e-02',\n",
       "  '4',\n",
       "  '3.283e-04/4.778e-02',\n",
       "  '4.274e-05/6.220e-03']}"
      ]
     },
     "execution_count": 43,
     "metadata": {},
     "output_type": "execute_result"
    }
   ],
   "source": [
    "c = get_labels(\"1708.04138.xml\")\n",
    "c\n"
   ]
  },
  {
   "cell_type": "code",
   "execution_count": 18,
   "metadata": {},
   "outputs": [],
   "source": [
    "def jaccard_similarity(list1, list2):\n",
    "    intersection = len(list(set(list1).intersection(list2)))\n",
    "    print(list(set(list1).intersection(list2)))\n",
    "    union = (len(list1) + len(list2)) - intersection\n",
    "    return float(intersection / union)\n",
    "        \n",
    "        \n",
    "\n",
    "        "
   ]
  },
  {
   "cell_type": "code",
   "execution_count": 46,
   "metadata": {},
   "outputs": [
    {
     "name": "stdout",
     "output_type": "stream",
     "text": [
      "['1', '10', '6.477e-03/1.291e-02', 'in–line/staggered', '150', 'Relative', '1.246e-03/4.392e-03', '4.597e-03/1.162e-02', '50', 'Re', 'residual', 'Absolute', '9.574e-03/3.373e-02', 'Iteration', '4', '1.858e-02/2.439e-02', '3.531e-02/8.926e-02', '3', '4.975e-02/9.916e-02', '2', '1.427e-01/1.874e-01']\n"
     ]
    },
    {
     "data": {
      "text/plain": [
       "0.2727272727272727"
      ]
     },
     "execution_count": 46,
     "metadata": {},
     "output_type": "execute_result"
    }
   ],
   "source": [
    "jaccard_similarity(c[0],l2)"
   ]
  },
  {
   "cell_type": "code",
   "execution_count": null,
   "metadata": {},
   "outputs": [],
   "source": []
  }
 ],
 "metadata": {
  "kernelspec": {
   "display_name": "Python 3",
   "language": "python",
   "name": "python3"
  },
  "language_info": {
   "codemirror_mode": {
    "name": "ipython",
    "version": 3
   },
   "file_extension": ".py",
   "mimetype": "text/x-python",
   "name": "python",
   "nbconvert_exporter": "python",
   "pygments_lexer": "ipython3",
   "version": "3.6.8"
  }
 },
 "nbformat": 4,
 "nbformat_minor": 2
}
